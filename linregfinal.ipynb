{
 "cells": [
  {
   "cell_type": "code",
   "execution_count": 1,
   "id": "79afd57d",
   "metadata": {},
   "outputs": [],
   "source": [
    "import torch\n",
    "import torch.nn as nn\n",
    "import numpy as np\n",
    "import matplotlib.pyplot as plt"
   ]
  },
  {
   "cell_type": "code",
   "execution_count": 8,
   "id": "6a7fc216",
   "metadata": {},
   "outputs": [
    {
     "data": {
      "text/plain": [
       "True"
      ]
     },
     "execution_count": 8,
     "metadata": {},
     "output_type": "execute_result"
    }
   ],
   "source": [
    "torch.cuda.is_available()"
   ]
  },
  {
   "cell_type": "markdown",
   "id": "db650e3e-600d-4ab0-8524-fb349a89442a",
   "metadata": {},
   "source": [
    "# Synthetic Data Generation"
   ]
  },
  {
   "cell_type": "code",
   "execution_count": 2,
   "id": "73eda7e6",
   "metadata": {},
   "outputs": [],
   "source": [
    "N=20\n",
    "X=np.random.random(N)*10 -5\n",
    "Y =0.5* X -1 #+np.random.randn(N)"
   ]
  },
  {
   "cell_type": "code",
   "execution_count": null,
   "id": "02a6bf3b",
   "metadata": {},
   "outputs": [
    {
     "data": {
      "text/plain": [
       "<matplotlib.collections.PathCollection at 0x7f225c7f76d0>"
      ]
     },
     "execution_count": 3,
     "metadata": {},
     "output_type": "execute_result"
    },
    {
     "data": {
      "image/png": "[encoded data removed]",
      "text/plain": [
       "<Figure size 640x480 with 1 Axes>"
      ]
     },
     "metadata": {},
     "output_type": "display_data"
    }
   ],
   "source": [
    "plt.scatter(X,Y)"
   ]
  },
  {
   "cell_type": "markdown",
   "id": "98885fea-82c0-47c9-ae2e-073eb0452c82",
   "metadata": {},
   "source": [
    "# Define the Model"
   ]
  },
  {
   "cell_type": "code",
   "execution_count": 12,
   "id": "7765f217",
   "metadata": {},
   "outputs": [],
   "source": [
    "model=nn.Linear(1,1)"
   ]
  },
  {
   "cell_type": "code",
   "execution_count": 13,
   "id": "4882c716",
   "metadata": {},
   "outputs": [],
   "source": [
    "#Loss and optimizer\n",
    "criterion=nn.MSELoss()\n",
    "optimizer=torch.optim.SGD(model.parameters(),lr=0.025)"
   ]
  },
  {
   "cell_type": "markdown",
   "id": "bfcb1e9e-1703-4da3-8f94-52449df54fc2",
   "metadata": {},
   "source": [
    "# Data Preprocessing"
   ]
  },
  {
   "cell_type": "code",
   "execution_count": 4,
   "id": "5900a86b-94a5-481d-a251-37af3ad9b932",
   "metadata": {},
   "outputs": [],
   "source": [
    "X = X.reshape(N,1)\n",
    "Y = Y.reshape(N,1)\n",
    "\n",
    "inputs=torch.from_numpy(X.astype(np.float32))\n",
    "targets=torch.from_numpy(Y.astype(np.float32))\n"
   ]
  },
  {
   "cell_type": "code",
   "execution_count": 17,
   "id": "6cba5e87",
   "metadata": {},
   "outputs": [
    {
     "name": "stdout",
     "output_type": "stream",
     "text": [
      "Epoch 1/50, Loss: 0.0188\n",
      "Epoch 2/50, Loss: 0.0169\n",
      "Epoch 3/50, Loss: 0.0153\n",
      "Epoch 4/50, Loss: 0.0138\n",
      "Epoch 5/50, Loss: 0.0125\n",
      "Epoch 6/50, Loss: 0.0112\n",
      "Epoch 7/50, Loss: 0.0101\n",
      "Epoch 8/50, Loss: 0.0092\n",
      "Epoch 9/50, Loss: 0.0083\n",
      "Epoch 10/50, Loss: 0.0075\n",
      "Epoch 11/50, Loss: 0.0067\n",
      "Epoch 12/50, Loss: 0.0061\n",
      "Epoch 13/50, Loss: 0.0055\n",
      "Epoch 14/50, Loss: 0.0050\n",
      "Epoch 15/50, Loss: 0.0045\n",
      "Epoch 16/50, Loss: 0.0040\n",
      "Epoch 17/50, Loss: 0.0036\n",
      "Epoch 18/50, Loss: 0.0033\n",
      "Epoch 19/50, Loss: 0.0030\n",
      "Epoch 20/50, Loss: 0.0027\n",
      "Epoch 21/50, Loss: 0.0024\n",
      "Epoch 22/50, Loss: 0.0022\n",
      "Epoch 23/50, Loss: 0.0020\n",
      "Epoch 24/50, Loss: 0.0018\n",
      "Epoch 25/50, Loss: 0.0016\n",
      "Epoch 26/50, Loss: 0.0014\n",
      "Epoch 27/50, Loss: 0.0013\n",
      "Epoch 28/50, Loss: 0.0012\n",
      "Epoch 29/50, Loss: 0.0011\n",
      "Epoch 30/50, Loss: 0.0010\n",
      "Epoch 31/50, Loss: 0.0009\n",
      "Epoch 32/50, Loss: 0.0008\n",
      "Epoch 33/50, Loss: 0.0007\n",
      "Epoch 34/50, Loss: 0.0006\n",
      "Epoch 35/50, Loss: 0.0006\n",
      "Epoch 36/50, Loss: 0.0005\n",
      "Epoch 37/50, Loss: 0.0005\n",
      "Epoch 38/50, Loss: 0.0004\n",
      "Epoch 39/50, Loss: 0.0004\n",
      "Epoch 40/50, Loss: 0.0003\n",
      "Epoch 41/50, Loss: 0.0003\n",
      "Epoch 42/50, Loss: 0.0003\n",
      "Epoch 43/50, Loss: 0.0003\n",
      "Epoch 44/50, Loss: 0.0002\n",
      "Epoch 45/50, Loss: 0.0002\n",
      "Epoch 46/50, Loss: 0.0002\n",
      "Epoch 47/50, Loss: 0.0002\n",
      "Epoch 48/50, Loss: 0.0002\n",
      "Epoch 49/50, Loss: 0.0001\n",
      "Epoch 50/50, Loss: 0.0001\n"
     ]
    }
   ],
   "source": [
    "#Train the model\n",
    "n_epochs = 50\n",
    "losses =[]\n",
    "for it in range(n_epochs):\n",
    "    optimizer.zero_grad()\n",
    "    \n",
    "    #Forward pass\n",
    "    outputs=model(inputs)\n",
    "    loss=criterion(outputs,targets)\n",
    "    losses.append(loss.item())\n",
    "    \n",
    "    loss.backward()\n",
    "    optimizer.step()\n",
    "    \n",
    "    print(f'Epoch {it+1}/{n_epochs}, Loss: {loss.item():.4f}')\n",
    "    "
   ]
  },
  {
   "cell_type": "code",
   "execution_count": 20,
   "id": "c6f6b568",
   "metadata": {},
   "outputs": [
    {
     "data": {
      "text/plain": [
       "tensor([[-3.3975],\n",
       "        [ 0.0156],\n",
       "        [ 1.3879],\n",
       "        [ 1.2353],\n",
       "        [-1.8644],\n",
       "        [-2.5186],\n",
       "        [-2.8362],\n",
       "        [ 1.1035],\n",
       "        [-2.9950],\n",
       "        [ 0.4189],\n",
       "        [-2.2846],\n",
       "        [-2.9598],\n",
       "        [ 0.7497],\n",
       "        [-0.6094],\n",
       "        [-0.7229],\n",
       "        [-1.9331],\n",
       "        [-0.9734],\n",
       "        [-1.8315],\n",
       "        [ 1.1091],\n",
       "        [-1.7908]], grad_fn=<AddmmBackward0>)"
      ]
     },
     "execution_count": 20,
     "metadata": {},
     "output_type": "execute_result"
    }
   ],
   "source": [
    "model(inputs)"
   ]
  },
  {
   "cell_type": "code",
   "execution_count": 6,
   "id": "40ea4037",
   "metadata": {},
   "outputs": [
    {
     "data": {
      "image/png": "[encoded data removed]",
      "text/plain": [
       "<Figure size 640x480 with 1 Axes>"
      ]
     },
     "metadata": {},
     "output_type": "display_data"
    }
   ],
   "source": [
    "predicted = model(inputs).detach().numpy()\n",
    "plt.scatter(X,Y,label=\"Original Data\")\n",
    "plt.plot(X, predicted, label=\"Fitted line\")\n",
    "plt.legend()\n",
    "plt.show()"
   ]
  },
  {
   "cell_type": "code",
   "execution_count": 17,
   "id": "e8f4fbb7",
   "metadata": {
    "scrolled": true
   },
   "outputs": [
    {
     "data": {
      "text/plain": [
       "array([[-0.02401382],\n",
       "       [ 1.2008209 ],\n",
       "       [ 0.9403403 ],\n",
       "       [ 1.4644232 ],\n",
       "       [ 0.78906465],\n",
       "       [-0.88926303],\n",
       "       [-0.11648279],\n",
       "       [-1.3168089 ],\n",
       "       [-3.2084317 ],\n",
       "       [ 0.40212142],\n",
       "       [-0.83926874],\n",
       "       [ 0.6803943 ],\n",
       "       [-2.1076205 ],\n",
       "       [-0.95741403],\n",
       "       [-2.5603032 ],\n",
       "       [-2.1381993 ],\n",
       "       [-1.5179304 ],\n",
       "       [ 0.1806289 ],\n",
       "       [-0.4000848 ],\n",
       "       [-1.8281538 ]], dtype=float32)"
      ]
     },
     "execution_count": 17,
     "metadata": {},
     "output_type": "execute_result"
    }
   ],
   "source": [
    "with torch.no_grad():\n",
    "    out = model(inputs).numpy()\n",
    "out"
   ]
  },
  {
   "cell_type": "code",
   "execution_count": 12,
   "id": "c2001d4c",
   "metadata": {},
   "outputs": [
    {
     "data": {
      "text/plain": [
       "array([[ 0.26446092],\n",
       "       [-2.1705837 ],\n",
       "       [-2.4211328 ],\n",
       "       [ 1.1018643 ],\n",
       "       [-2.1739972 ],\n",
       "       [-2.479529  ],\n",
       "       [-1.0520664 ],\n",
       "       [-1.8950391 ],\n",
       "       [-1.947543  ],\n",
       "       [ 1.0648403 ],\n",
       "       [-1.9600511 ],\n",
       "       [-2.6329396 ],\n",
       "       [-3.3516788 ],\n",
       "       [ 0.67714524],\n",
       "       [ 1.0114604 ],\n",
       "       [-3.3354108 ],\n",
       "       [ 1.4012725 ],\n",
       "       [-3.2181945 ],\n",
       "       [ 0.14951122],\n",
       "       [ 0.6460284 ]], dtype=float32)"
      ]
     },
     "execution_count": 12,
     "metadata": {},
     "output_type": "execute_result"
    }
   ],
   "source": [
    "model(inputs).detach().numpy()"
   ]
  },
  {
   "cell_type": "code",
   "execution_count": 21,
   "id": "ab702b46",
   "metadata": {},
   "outputs": [
    {
     "name": "stdout",
     "output_type": "stream",
     "text": [
      "[[0.50010735]] [-0.9894289]\n"
     ]
    }
   ],
   "source": [
    "w = model.weight.data.numpy()\n",
    "b = model.bias.data.numpy()\n",
    "print(w,b)"
   ]
  },
  {
   "cell_type": "markdown",
   "id": "f5fdb3dc-738f-4e9a-a10e-e613aa3f69b2",
   "metadata": {},
   "source": [
    "# Saving Entire Model"
   ]
  },
  {
   "cell_type": "code",
   "execution_count": 22,
   "id": "d1e1983d",
   "metadata": {},
   "outputs": [],
   "source": [
    "torch.save(model,\"one.pt\")"
   ]
  },
  {
   "cell_type": "code",
   "execution_count": 5,
   "id": "b6de8678",
   "metadata": {},
   "outputs": [],
   "source": [
    "model=torch.load(\"one.pt\")\n",
    "#The disadvantage of this approach is that the data is bound to the specific classes and the exact directory structure used when the model is saved."
   ]
  },
  {
   "cell_type": "markdown",
   "id": "bb16107b-3119-430a-ade6-f7212f15edbc",
   "metadata": {},
   "source": [
    "# Saving State Dictionary"
   ]
  },
  {
   "cell_type": "code",
   "execution_count": null,
   "id": "2459f4b2-a60b-4319-82b4-2fb1d7d16a1b",
   "metadata": {},
   "outputs": [
    {
     "data": {
      "text/plain": [
       "OrderedDict([('weight', tensor([[0.5001]])), ('bias', tensor([-0.9894]))])"
      ]
     },
     "execution_count": 7,
     "metadata": {},
     "output_type": "execute_result"
    }
   ],
   "source": [
    "model.state_dict()"
   ]
  },
  {
   "cell_type": "code",
   "execution_count": 8,
   "id": "71ffaa0b",
   "metadata": {},
   "outputs": [],
   "source": [
    "torch.save(model.state_dict(),\"one.pt\")"
   ]
  },
  {
   "cell_type": "code",
   "execution_count": 9,
   "id": "3fc84dab-dda6-4512-b45d-e52c27607484",
   "metadata": {},
   "outputs": [
    {
     "data": {
      "text/plain": [
       "Linear(in_features=1, out_features=1, bias=True)"
      ]
     },
     "execution_count": 9,
     "metadata": {},
     "output_type": "execute_result"
    }
   ],
   "source": [
    "model=nn.Linear(1,1)\n",
    "model.load_state_dict(torch.load(\"one.pt\"))\n",
    "model.eval()"
   ]
  }
 ],
 "metadata": {
  "kernelspec": {
   "display_name": "pytorch1",
   "language": "python",
   "name": "pytorch"
  },
  "language_info": {
   "codemirror_mode": {
    "name": "ipython",
    "version": 3
   },
   "file_extension": ".py",
   "mimetype": "text/x-python",
   "name": "python",
   "nbconvert_exporter": "python",
   "pygments_lexer": "ipython3",
   "version": "3.8.16"
  }
 },
 "nbformat": 4,
 "nbformat_minor": 5
}
